{
 "cells": [
  {
   "cell_type": "code",
   "execution_count": 30,
   "id": "755bae7f-32ee-428c-ad85-eb1684609906",
   "metadata": {},
   "outputs": [],
   "source": [
    "import pandas as pd\n",
    "import numpy as np\n",
    "import yfinance as yf\n",
    "import matplotlib.pyplot as plt\n",
    "from statsmodels.tsa.vector_ar.vecm import coint_johansen\n",
    "from statsmodels.tsa.stattools import adfuller"
   ]
  },
  {
   "cell_type": "code",
   "execution_count": 2,
   "id": "6eab4aa8-32de-4600-91ac-b4974778f4e1",
   "metadata": {},
   "outputs": [
    {
     "name": "stdout",
     "output_type": "stream",
     "text": [
      "[*********************100%***********************]  3 of 3 completed\n"
     ]
    }
   ],
   "source": [
    "df = yf.download(\n",
    "    tickers = 'AAPL MSFT AMD',\n",
    "    period=\"max\",\n",
    "    # start=\"2010-01-01\", \n",
    "    # end=\"2022-03-28\",\n",
    "    interval=\"1d\",\n",
    "    group_by = 'ticker'\n",
    ")"
   ]
  },
  {
   "cell_type": "code",
   "execution_count": 3,
   "id": "47f05dbd-b290-42e4-9001-c0f9245e432a",
   "metadata": {},
   "outputs": [
    {
     "data": {
      "text/html": [
       "<div>\n",
       "<style scoped>\n",
       "    .dataframe tbody tr th:only-of-type {\n",
       "        vertical-align: middle;\n",
       "    }\n",
       "\n",
       "    .dataframe tbody tr th {\n",
       "        vertical-align: top;\n",
       "    }\n",
       "\n",
       "    .dataframe thead tr th {\n",
       "        text-align: left;\n",
       "    }\n",
       "\n",
       "    .dataframe thead tr:last-of-type th {\n",
       "        text-align: right;\n",
       "    }\n",
       "</style>\n",
       "<table border=\"1\" class=\"dataframe\">\n",
       "  <thead>\n",
       "    <tr>\n",
       "      <th></th>\n",
       "      <th colspan=\"6\" halign=\"left\">AMD</th>\n",
       "      <th colspan=\"6\" halign=\"left\">MSFT</th>\n",
       "      <th colspan=\"6\" halign=\"left\">AAPL</th>\n",
       "    </tr>\n",
       "    <tr>\n",
       "      <th></th>\n",
       "      <th>Open</th>\n",
       "      <th>High</th>\n",
       "      <th>Low</th>\n",
       "      <th>Close</th>\n",
       "      <th>Adj Close</th>\n",
       "      <th>Volume</th>\n",
       "      <th>Open</th>\n",
       "      <th>High</th>\n",
       "      <th>Low</th>\n",
       "      <th>Close</th>\n",
       "      <th>Adj Close</th>\n",
       "      <th>Volume</th>\n",
       "      <th>Open</th>\n",
       "      <th>High</th>\n",
       "      <th>Low</th>\n",
       "      <th>Close</th>\n",
       "      <th>Adj Close</th>\n",
       "      <th>Volume</th>\n",
       "    </tr>\n",
       "    <tr>\n",
       "      <th>Date</th>\n",
       "      <th></th>\n",
       "      <th></th>\n",
       "      <th></th>\n",
       "      <th></th>\n",
       "      <th></th>\n",
       "      <th></th>\n",
       "      <th></th>\n",
       "      <th></th>\n",
       "      <th></th>\n",
       "      <th></th>\n",
       "      <th></th>\n",
       "      <th></th>\n",
       "      <th></th>\n",
       "      <th></th>\n",
       "      <th></th>\n",
       "      <th></th>\n",
       "      <th></th>\n",
       "      <th></th>\n",
       "    </tr>\n",
       "  </thead>\n",
       "  <tbody>\n",
       "    <tr>\n",
       "      <th>1980-03-17</th>\n",
       "      <td>0.000000</td>\n",
       "      <td>3.302083</td>\n",
       "      <td>3.125000</td>\n",
       "      <td>3.145833</td>\n",
       "      <td>3.145833</td>\n",
       "      <td>219600</td>\n",
       "      <td>NaN</td>\n",
       "      <td>NaN</td>\n",
       "      <td>NaN</td>\n",
       "      <td>NaN</td>\n",
       "      <td>NaN</td>\n",
       "      <td>NaN</td>\n",
       "      <td>NaN</td>\n",
       "      <td>NaN</td>\n",
       "      <td>NaN</td>\n",
       "      <td>NaN</td>\n",
       "      <td>NaN</td>\n",
       "      <td>NaN</td>\n",
       "    </tr>\n",
       "    <tr>\n",
       "      <th>1980-03-18</th>\n",
       "      <td>0.000000</td>\n",
       "      <td>3.125000</td>\n",
       "      <td>2.937500</td>\n",
       "      <td>3.031250</td>\n",
       "      <td>3.031250</td>\n",
       "      <td>727200</td>\n",
       "      <td>NaN</td>\n",
       "      <td>NaN</td>\n",
       "      <td>NaN</td>\n",
       "      <td>NaN</td>\n",
       "      <td>NaN</td>\n",
       "      <td>NaN</td>\n",
       "      <td>NaN</td>\n",
       "      <td>NaN</td>\n",
       "      <td>NaN</td>\n",
       "      <td>NaN</td>\n",
       "      <td>NaN</td>\n",
       "      <td>NaN</td>\n",
       "    </tr>\n",
       "    <tr>\n",
       "      <th>1980-03-19</th>\n",
       "      <td>0.000000</td>\n",
       "      <td>3.083333</td>\n",
       "      <td>3.020833</td>\n",
       "      <td>3.041667</td>\n",
       "      <td>3.041667</td>\n",
       "      <td>295200</td>\n",
       "      <td>NaN</td>\n",
       "      <td>NaN</td>\n",
       "      <td>NaN</td>\n",
       "      <td>NaN</td>\n",
       "      <td>NaN</td>\n",
       "      <td>NaN</td>\n",
       "      <td>NaN</td>\n",
       "      <td>NaN</td>\n",
       "      <td>NaN</td>\n",
       "      <td>NaN</td>\n",
       "      <td>NaN</td>\n",
       "      <td>NaN</td>\n",
       "    </tr>\n",
       "    <tr>\n",
       "      <th>1980-03-20</th>\n",
       "      <td>0.000000</td>\n",
       "      <td>3.062500</td>\n",
       "      <td>3.010417</td>\n",
       "      <td>3.010417</td>\n",
       "      <td>3.010417</td>\n",
       "      <td>159600</td>\n",
       "      <td>NaN</td>\n",
       "      <td>NaN</td>\n",
       "      <td>NaN</td>\n",
       "      <td>NaN</td>\n",
       "      <td>NaN</td>\n",
       "      <td>NaN</td>\n",
       "      <td>NaN</td>\n",
       "      <td>NaN</td>\n",
       "      <td>NaN</td>\n",
       "      <td>NaN</td>\n",
       "      <td>NaN</td>\n",
       "      <td>NaN</td>\n",
       "    </tr>\n",
       "    <tr>\n",
       "      <th>1980-03-21</th>\n",
       "      <td>0.000000</td>\n",
       "      <td>3.020833</td>\n",
       "      <td>2.906250</td>\n",
       "      <td>2.916667</td>\n",
       "      <td>2.916667</td>\n",
       "      <td>130800</td>\n",
       "      <td>NaN</td>\n",
       "      <td>NaN</td>\n",
       "      <td>NaN</td>\n",
       "      <td>NaN</td>\n",
       "      <td>NaN</td>\n",
       "      <td>NaN</td>\n",
       "      <td>NaN</td>\n",
       "      <td>NaN</td>\n",
       "      <td>NaN</td>\n",
       "      <td>NaN</td>\n",
       "      <td>NaN</td>\n",
       "      <td>NaN</td>\n",
       "    </tr>\n",
       "    <tr>\n",
       "      <th>...</th>\n",
       "      <td>...</td>\n",
       "      <td>...</td>\n",
       "      <td>...</td>\n",
       "      <td>...</td>\n",
       "      <td>...</td>\n",
       "      <td>...</td>\n",
       "      <td>...</td>\n",
       "      <td>...</td>\n",
       "      <td>...</td>\n",
       "      <td>...</td>\n",
       "      <td>...</td>\n",
       "      <td>...</td>\n",
       "      <td>...</td>\n",
       "      <td>...</td>\n",
       "      <td>...</td>\n",
       "      <td>...</td>\n",
       "      <td>...</td>\n",
       "      <td>...</td>\n",
       "    </tr>\n",
       "    <tr>\n",
       "      <th>2023-05-22</th>\n",
       "      <td>104.680000</td>\n",
       "      <td>108.790001</td>\n",
       "      <td>103.489998</td>\n",
       "      <td>108.000000</td>\n",
       "      <td>108.000000</td>\n",
       "      <td>65424200</td>\n",
       "      <td>318.600006</td>\n",
       "      <td>322.589996</td>\n",
       "      <td>318.010010</td>\n",
       "      <td>321.179993</td>\n",
       "      <td>321.179993</td>\n",
       "      <td>24115700.0</td>\n",
       "      <td>173.979996</td>\n",
       "      <td>174.710007</td>\n",
       "      <td>173.449997</td>\n",
       "      <td>174.199997</td>\n",
       "      <td>174.199997</td>\n",
       "      <td>43570900.0</td>\n",
       "    </tr>\n",
       "    <tr>\n",
       "      <th>2023-05-23</th>\n",
       "      <td>107.250000</td>\n",
       "      <td>110.989998</td>\n",
       "      <td>107.190002</td>\n",
       "      <td>108.120003</td>\n",
       "      <td>108.120003</td>\n",
       "      <td>73099100</td>\n",
       "      <td>320.029999</td>\n",
       "      <td>322.720001</td>\n",
       "      <td>315.250000</td>\n",
       "      <td>315.260010</td>\n",
       "      <td>315.260010</td>\n",
       "      <td>30797200.0</td>\n",
       "      <td>173.130005</td>\n",
       "      <td>173.380005</td>\n",
       "      <td>171.279999</td>\n",
       "      <td>171.559998</td>\n",
       "      <td>171.559998</td>\n",
       "      <td>50747300.0</td>\n",
       "    </tr>\n",
       "    <tr>\n",
       "      <th>2023-05-24</th>\n",
       "      <td>105.980003</td>\n",
       "      <td>108.910004</td>\n",
       "      <td>105.639999</td>\n",
       "      <td>108.269997</td>\n",
       "      <td>108.269997</td>\n",
       "      <td>65910500</td>\n",
       "      <td>314.730011</td>\n",
       "      <td>316.500000</td>\n",
       "      <td>312.609985</td>\n",
       "      <td>313.850006</td>\n",
       "      <td>313.850006</td>\n",
       "      <td>23384900.0</td>\n",
       "      <td>171.089996</td>\n",
       "      <td>172.419998</td>\n",
       "      <td>170.520004</td>\n",
       "      <td>171.839996</td>\n",
       "      <td>171.839996</td>\n",
       "      <td>45143500.0</td>\n",
       "    </tr>\n",
       "    <tr>\n",
       "      <th>2023-05-25</th>\n",
       "      <td>117.309998</td>\n",
       "      <td>120.690002</td>\n",
       "      <td>115.800003</td>\n",
       "      <td>120.349998</td>\n",
       "      <td>120.349998</td>\n",
       "      <td>108514700</td>\n",
       "      <td>323.239990</td>\n",
       "      <td>326.899994</td>\n",
       "      <td>320.000000</td>\n",
       "      <td>325.920013</td>\n",
       "      <td>325.920013</td>\n",
       "      <td>43301700.0</td>\n",
       "      <td>172.410004</td>\n",
       "      <td>173.899994</td>\n",
       "      <td>171.690002</td>\n",
       "      <td>172.990005</td>\n",
       "      <td>172.990005</td>\n",
       "      <td>56058300.0</td>\n",
       "    </tr>\n",
       "    <tr>\n",
       "      <th>2023-05-26</th>\n",
       "      <td>122.459999</td>\n",
       "      <td>127.430000</td>\n",
       "      <td>120.889999</td>\n",
       "      <td>127.029999</td>\n",
       "      <td>127.029999</td>\n",
       "      <td>92812000</td>\n",
       "      <td>324.019989</td>\n",
       "      <td>333.399994</td>\n",
       "      <td>323.880005</td>\n",
       "      <td>332.890015</td>\n",
       "      <td>332.890015</td>\n",
       "      <td>36600900.0</td>\n",
       "      <td>173.320007</td>\n",
       "      <td>175.770004</td>\n",
       "      <td>173.110001</td>\n",
       "      <td>175.429993</td>\n",
       "      <td>175.429993</td>\n",
       "      <td>54794100.0</td>\n",
       "    </tr>\n",
       "  </tbody>\n",
       "</table>\n",
       "<p>10892 rows × 18 columns</p>\n",
       "</div>"
      ],
      "text/plain": [
       "                   AMD                                                   \n",
       "                  Open        High         Low       Close   Adj Close   \n",
       "Date                                                                     \n",
       "1980-03-17    0.000000    3.302083    3.125000    3.145833    3.145833  \\\n",
       "1980-03-18    0.000000    3.125000    2.937500    3.031250    3.031250   \n",
       "1980-03-19    0.000000    3.083333    3.020833    3.041667    3.041667   \n",
       "1980-03-20    0.000000    3.062500    3.010417    3.010417    3.010417   \n",
       "1980-03-21    0.000000    3.020833    2.906250    2.916667    2.916667   \n",
       "...                ...         ...         ...         ...         ...   \n",
       "2023-05-22  104.680000  108.790001  103.489998  108.000000  108.000000   \n",
       "2023-05-23  107.250000  110.989998  107.190002  108.120003  108.120003   \n",
       "2023-05-24  105.980003  108.910004  105.639999  108.269997  108.269997   \n",
       "2023-05-25  117.309998  120.690002  115.800003  120.349998  120.349998   \n",
       "2023-05-26  122.459999  127.430000  120.889999  127.029999  127.029999   \n",
       "\n",
       "                             MSFT                                       \n",
       "               Volume        Open        High         Low       Close   \n",
       "Date                                                                    \n",
       "1980-03-17     219600         NaN         NaN         NaN         NaN  \\\n",
       "1980-03-18     727200         NaN         NaN         NaN         NaN   \n",
       "1980-03-19     295200         NaN         NaN         NaN         NaN   \n",
       "1980-03-20     159600         NaN         NaN         NaN         NaN   \n",
       "1980-03-21     130800         NaN         NaN         NaN         NaN   \n",
       "...               ...         ...         ...         ...         ...   \n",
       "2023-05-22   65424200  318.600006  322.589996  318.010010  321.179993   \n",
       "2023-05-23   73099100  320.029999  322.720001  315.250000  315.260010   \n",
       "2023-05-24   65910500  314.730011  316.500000  312.609985  313.850006   \n",
       "2023-05-25  108514700  323.239990  326.899994  320.000000  325.920013   \n",
       "2023-05-26   92812000  324.019989  333.399994  323.880005  332.890015   \n",
       "\n",
       "                                          AAPL                           \n",
       "             Adj Close      Volume        Open        High         Low   \n",
       "Date                                                                     \n",
       "1980-03-17         NaN         NaN         NaN         NaN         NaN  \\\n",
       "1980-03-18         NaN         NaN         NaN         NaN         NaN   \n",
       "1980-03-19         NaN         NaN         NaN         NaN         NaN   \n",
       "1980-03-20         NaN         NaN         NaN         NaN         NaN   \n",
       "1980-03-21         NaN         NaN         NaN         NaN         NaN   \n",
       "...                ...         ...         ...         ...         ...   \n",
       "2023-05-22  321.179993  24115700.0  173.979996  174.710007  173.449997   \n",
       "2023-05-23  315.260010  30797200.0  173.130005  173.380005  171.279999   \n",
       "2023-05-24  313.850006  23384900.0  171.089996  172.419998  170.520004   \n",
       "2023-05-25  325.920013  43301700.0  172.410004  173.899994  171.690002   \n",
       "2023-05-26  332.890015  36600900.0  173.320007  175.770004  173.110001   \n",
       "\n",
       "                                                \n",
       "                 Close   Adj Close      Volume  \n",
       "Date                                            \n",
       "1980-03-17         NaN         NaN         NaN  \n",
       "1980-03-18         NaN         NaN         NaN  \n",
       "1980-03-19         NaN         NaN         NaN  \n",
       "1980-03-20         NaN         NaN         NaN  \n",
       "1980-03-21         NaN         NaN         NaN  \n",
       "...                ...         ...         ...  \n",
       "2023-05-22  174.199997  174.199997  43570900.0  \n",
       "2023-05-23  171.559998  171.559998  50747300.0  \n",
       "2023-05-24  171.839996  171.839996  45143500.0  \n",
       "2023-05-25  172.990005  172.990005  56058300.0  \n",
       "2023-05-26  175.429993  175.429993  54794100.0  \n",
       "\n",
       "[10892 rows x 18 columns]"
      ]
     },
     "execution_count": 3,
     "metadata": {},
     "output_type": "execute_result"
    }
   ],
   "source": [
    "df"
   ]
  },
  {
   "cell_type": "code",
   "execution_count": 4,
   "id": "d30318ad-733c-49ec-bf8a-03780ff6161c",
   "metadata": {},
   "outputs": [],
   "source": [
    "# Close\n",
    "close = df.iloc[:, df.columns.get_level_values(1)=='Close']"
   ]
  },
  {
   "cell_type": "code",
   "execution_count": 5,
   "id": "8f8230bb-5ae6-4b0f-ae1e-737caafb634c",
   "metadata": {},
   "outputs": [
    {
     "name": "stderr",
     "output_type": "stream",
     "text": [
      "/var/folders/7v/mlpbd2vj15s13pz4rjm4bq1m0000gn/T/ipykernel_3123/602405175.py:2: SettingWithCopyWarning: \n",
      "A value is trying to be set on a copy of a slice from a DataFrame\n",
      "\n",
      "See the caveats in the documentation: https://pandas.pydata.org/pandas-docs/stable/user_guide/indexing.html#returning-a-view-versus-a-copy\n",
      "  close.dropna(inplace=True)\n"
     ]
    },
    {
     "data": {
      "text/html": [
       "<div>\n",
       "<style scoped>\n",
       "    .dataframe tbody tr th:only-of-type {\n",
       "        vertical-align: middle;\n",
       "    }\n",
       "\n",
       "    .dataframe tbody tr th {\n",
       "        vertical-align: top;\n",
       "    }\n",
       "\n",
       "    .dataframe thead th {\n",
       "        text-align: right;\n",
       "    }\n",
       "</style>\n",
       "<table border=\"1\" class=\"dataframe\">\n",
       "  <thead>\n",
       "    <tr style=\"text-align: right;\">\n",
       "      <th></th>\n",
       "      <th>AAPL</th>\n",
       "      <th>MSFT</th>\n",
       "      <th>AMD</th>\n",
       "    </tr>\n",
       "    <tr>\n",
       "      <th>Date</th>\n",
       "      <th></th>\n",
       "      <th></th>\n",
       "      <th></th>\n",
       "    </tr>\n",
       "  </thead>\n",
       "  <tbody>\n",
       "    <tr>\n",
       "      <th>1986-03-13</th>\n",
       "      <td>15.875000</td>\n",
       "      <td>0.097222</td>\n",
       "      <td>0.110491</td>\n",
       "    </tr>\n",
       "    <tr>\n",
       "      <th>1986-03-14</th>\n",
       "      <td>14.625000</td>\n",
       "      <td>0.100694</td>\n",
       "      <td>0.116629</td>\n",
       "    </tr>\n",
       "    <tr>\n",
       "      <th>1986-03-17</th>\n",
       "      <td>15.812500</td>\n",
       "      <td>0.102431</td>\n",
       "      <td>0.116071</td>\n",
       "    </tr>\n",
       "    <tr>\n",
       "      <th>1986-03-18</th>\n",
       "      <td>15.687500</td>\n",
       "      <td>0.099826</td>\n",
       "      <td>0.119978</td>\n",
       "    </tr>\n",
       "    <tr>\n",
       "      <th>1986-03-19</th>\n",
       "      <td>15.312500</td>\n",
       "      <td>0.098090</td>\n",
       "      <td>0.118304</td>\n",
       "    </tr>\n",
       "    <tr>\n",
       "      <th>...</th>\n",
       "      <td>...</td>\n",
       "      <td>...</td>\n",
       "      <td>...</td>\n",
       "    </tr>\n",
       "    <tr>\n",
       "      <th>2023-05-22</th>\n",
       "      <td>108.000000</td>\n",
       "      <td>321.179993</td>\n",
       "      <td>174.199997</td>\n",
       "    </tr>\n",
       "    <tr>\n",
       "      <th>2023-05-23</th>\n",
       "      <td>108.120003</td>\n",
       "      <td>315.260010</td>\n",
       "      <td>171.559998</td>\n",
       "    </tr>\n",
       "    <tr>\n",
       "      <th>2023-05-24</th>\n",
       "      <td>108.269997</td>\n",
       "      <td>313.850006</td>\n",
       "      <td>171.839996</td>\n",
       "    </tr>\n",
       "    <tr>\n",
       "      <th>2023-05-25</th>\n",
       "      <td>120.349998</td>\n",
       "      <td>325.920013</td>\n",
       "      <td>172.990005</td>\n",
       "    </tr>\n",
       "    <tr>\n",
       "      <th>2023-05-26</th>\n",
       "      <td>127.029999</td>\n",
       "      <td>332.890015</td>\n",
       "      <td>175.429993</td>\n",
       "    </tr>\n",
       "  </tbody>\n",
       "</table>\n",
       "<p>9378 rows × 3 columns</p>\n",
       "</div>"
      ],
      "text/plain": [
       "                  AAPL        MSFT         AMD\n",
       "Date                                          \n",
       "1986-03-13   15.875000    0.097222    0.110491\n",
       "1986-03-14   14.625000    0.100694    0.116629\n",
       "1986-03-17   15.812500    0.102431    0.116071\n",
       "1986-03-18   15.687500    0.099826    0.119978\n",
       "1986-03-19   15.312500    0.098090    0.118304\n",
       "...                ...         ...         ...\n",
       "2023-05-22  108.000000  321.179993  174.199997\n",
       "2023-05-23  108.120003  315.260010  171.559998\n",
       "2023-05-24  108.269997  313.850006  171.839996\n",
       "2023-05-25  120.349998  325.920013  172.990005\n",
       "2023-05-26  127.029999  332.890015  175.429993\n",
       "\n",
       "[9378 rows x 3 columns]"
      ]
     },
     "execution_count": 5,
     "metadata": {},
     "output_type": "execute_result"
    }
   ],
   "source": [
    "close.columns = ['AAPL', 'MSFT', 'AMD']\n",
    "close.dropna(inplace=True)\n",
    "close"
   ]
  },
  {
   "cell_type": "code",
   "execution_count": 6,
   "id": "9fa2659a-6354-459f-a025-4292fac5dc56",
   "metadata": {},
   "outputs": [],
   "source": [
    "df = close.copy()\n",
    "del close"
   ]
  },
  {
   "cell_type": "code",
   "execution_count": 7,
   "id": "209fb3f5-4ed7-4ba4-91c6-e2533dac4aab",
   "metadata": {},
   "outputs": [
    {
     "data": {
      "text/plain": [
       "<Axes: xlabel='Date'>"
      ]
     },
     "execution_count": 7,
     "metadata": {},
     "output_type": "execute_result"
    },
    {
     "data": {
      "image/png": "[encoded data removed]",
      "text/plain": [
       "<Figure size 640x480 with 1 Axes>"
      ]
     },
     "metadata": {},
     "output_type": "display_data"
    }
   ],
   "source": [
    "df.plot()"
   ]
  },
  {
   "cell_type": "code",
   "execution_count": 11,
   "id": "1969f5a0-df19-4250-8b0b-a65613c0d64b",
   "metadata": {},
   "outputs": [],
   "source": [
    "df2 = df.reset_index()\n",
    "df2['Date'] = pd.to_datetime(df2['Date'], format='%Y-%m-%d')\n",
    "\n",
    "df2 = df2.loc[df2['Date'] >= '2023-01-01']\n",
    "df2.set_index('Date', inplace=True)"
   ]
  },
  {
   "cell_type": "code",
   "execution_count": 12,
   "id": "b68a10f2-7dfd-4f07-90de-d5ad37b15458",
   "metadata": {},
   "outputs": [
    {
     "data": {
      "text/html": [
       "<div>\n",
       "<style scoped>\n",
       "    .dataframe tbody tr th:only-of-type {\n",
       "        vertical-align: middle;\n",
       "    }\n",
       "\n",
       "    .dataframe tbody tr th {\n",
       "        vertical-align: top;\n",
       "    }\n",
       "\n",
       "    .dataframe thead th {\n",
       "        text-align: right;\n",
       "    }\n",
       "</style>\n",
       "<table border=\"1\" class=\"dataframe\">\n",
       "  <thead>\n",
       "    <tr style=\"text-align: right;\">\n",
       "      <th></th>\n",
       "      <th>AAPL</th>\n",
       "      <th>MSFT</th>\n",
       "      <th>AMD</th>\n",
       "    </tr>\n",
       "    <tr>\n",
       "      <th>Date</th>\n",
       "      <th></th>\n",
       "      <th></th>\n",
       "      <th></th>\n",
       "    </tr>\n",
       "  </thead>\n",
       "  <tbody>\n",
       "    <tr>\n",
       "      <th>2023-01-03</th>\n",
       "      <td>64.019997</td>\n",
       "      <td>239.580002</td>\n",
       "      <td>125.070000</td>\n",
       "    </tr>\n",
       "    <tr>\n",
       "      <th>2023-01-04</th>\n",
       "      <td>64.660004</td>\n",
       "      <td>229.100006</td>\n",
       "      <td>126.360001</td>\n",
       "    </tr>\n",
       "    <tr>\n",
       "      <th>2023-01-05</th>\n",
       "      <td>62.330002</td>\n",
       "      <td>222.309998</td>\n",
       "      <td>125.019997</td>\n",
       "    </tr>\n",
       "    <tr>\n",
       "      <th>2023-01-06</th>\n",
       "      <td>63.959999</td>\n",
       "      <td>224.929993</td>\n",
       "      <td>129.619995</td>\n",
       "    </tr>\n",
       "    <tr>\n",
       "      <th>2023-01-09</th>\n",
       "      <td>67.239998</td>\n",
       "      <td>227.119995</td>\n",
       "      <td>130.149994</td>\n",
       "    </tr>\n",
       "    <tr>\n",
       "      <th>...</th>\n",
       "      <td>...</td>\n",
       "      <td>...</td>\n",
       "      <td>...</td>\n",
       "    </tr>\n",
       "    <tr>\n",
       "      <th>2023-05-22</th>\n",
       "      <td>108.000000</td>\n",
       "      <td>321.179993</td>\n",
       "      <td>174.199997</td>\n",
       "    </tr>\n",
       "    <tr>\n",
       "      <th>2023-05-23</th>\n",
       "      <td>108.120003</td>\n",
       "      <td>315.260010</td>\n",
       "      <td>171.559998</td>\n",
       "    </tr>\n",
       "    <tr>\n",
       "      <th>2023-05-24</th>\n",
       "      <td>108.269997</td>\n",
       "      <td>313.850006</td>\n",
       "      <td>171.839996</td>\n",
       "    </tr>\n",
       "    <tr>\n",
       "      <th>2023-05-25</th>\n",
       "      <td>120.349998</td>\n",
       "      <td>325.920013</td>\n",
       "      <td>172.990005</td>\n",
       "    </tr>\n",
       "    <tr>\n",
       "      <th>2023-05-26</th>\n",
       "      <td>127.029999</td>\n",
       "      <td>332.890015</td>\n",
       "      <td>175.429993</td>\n",
       "    </tr>\n",
       "  </tbody>\n",
       "</table>\n",
       "<p>101 rows × 3 columns</p>\n",
       "</div>"
      ],
      "text/plain": [
       "                  AAPL        MSFT         AMD\n",
       "Date                                          \n",
       "2023-01-03   64.019997  239.580002  125.070000\n",
       "2023-01-04   64.660004  229.100006  126.360001\n",
       "2023-01-05   62.330002  222.309998  125.019997\n",
       "2023-01-06   63.959999  224.929993  129.619995\n",
       "2023-01-09   67.239998  227.119995  130.149994\n",
       "...                ...         ...         ...\n",
       "2023-05-22  108.000000  321.179993  174.199997\n",
       "2023-05-23  108.120003  315.260010  171.559998\n",
       "2023-05-24  108.269997  313.850006  171.839996\n",
       "2023-05-25  120.349998  325.920013  172.990005\n",
       "2023-05-26  127.029999  332.890015  175.429993\n",
       "\n",
       "[101 rows x 3 columns]"
      ]
     },
     "execution_count": 12,
     "metadata": {},
     "output_type": "execute_result"
    }
   ],
   "source": [
    "df2"
   ]
  },
  {
   "cell_type": "code",
   "execution_count": 13,
   "id": "b37b6f2d-7ceb-4ffd-b980-b96ba477c9a8",
   "metadata": {},
   "outputs": [
    {
     "data": {
      "text/plain": [
       "<Axes: xlabel='Date'>"
      ]
     },
     "execution_count": 13,
     "metadata": {},
     "output_type": "execute_result"
    },
    {
     "data": {
      "image/png": "[encoded data removed]",
      "text/plain": [
       "<Figure size 640x480 with 1 Axes>"
      ]
     },
     "metadata": {},
     "output_type": "display_data"
    }
   ],
   "source": [
    "df2.plot()"
   ]
  },
  {
   "cell_type": "code",
   "execution_count": 16,
   "id": "f75e839b-a369-4cb6-b90e-1e18ccff3b16",
   "metadata": {},
   "outputs": [],
   "source": [
    "jres = coint_johansen(df2, det_order=0, k_ar_diff=1)"
   ]
  },
  {
   "cell_type": "code",
   "execution_count": 17,
   "id": "d2b3c9ac-e81b-4572-9476-8d8744cff51d",
   "metadata": {},
   "outputs": [
    {
     "data": {
      "text/plain": [
       "array([[ 0.00060662, -0.07884319, -0.18618052],\n",
       "       [-0.13558099,  0.08607077, -0.01982978],\n",
       "       [ 0.31427547, -0.05041409,  0.15558763]])"
      ]
     },
     "execution_count": 17,
     "metadata": {},
     "output_type": "execute_result"
    }
   ],
   "source": [
    "# Vectores propios\n",
    "jres.evec"
   ]
  },
  {
   "cell_type": "code",
   "execution_count": 18,
   "id": "cb3e987a-5556-4fc3-b7f0-6a7519d6925b",
   "metadata": {},
   "outputs": [
    {
     "data": {
      "text/plain": [
       "array([1.50348129e-01, 3.61366306e-02, 6.07447822e-07])"
      ]
     },
     "execution_count": 18,
     "metadata": {},
     "output_type": "execute_result"
    }
   ],
   "source": [
    "# Valores propios\n",
    "jres.eig"
   ]
  },
  {
   "cell_type": "code",
   "execution_count": 19,
   "id": "bacb2bc1-65ce-4253-b236-78f28bd400ab",
   "metadata": {},
   "outputs": [
    {
     "data": {
      "text/plain": [
       "array([1.97737563e+01, 3.64382715e+00, 6.01373526e-05])"
      ]
     },
     "execution_count": 19,
     "metadata": {},
     "output_type": "execute_result"
    }
   ],
   "source": [
    "# trace statistic\n",
    "jres.trace_stat"
   ]
  },
  {
   "cell_type": "code",
   "execution_count": 20,
   "id": "17c4da97-8980-465e-b31f-90fb9154a716",
   "metadata": {},
   "outputs": [
    {
     "data": {
      "text/plain": [
       "array([[27.0669, 29.7961, 35.4628],\n",
       "       [13.4294, 15.4943, 19.9349],\n",
       "       [ 2.7055,  3.8415,  6.6349]])"
      ]
     },
     "execution_count": 20,
     "metadata": {},
     "output_type": "execute_result"
    }
   ],
   "source": [
    "# trace statistic crit values\n",
    "jres.trace_stat_crit_vals"
   ]
  },
  {
   "cell_type": "code",
   "execution_count": 21,
   "id": "d9406d69-7c88-41a4-8757-9f5b96c79b04",
   "metadata": {},
   "outputs": [
    {
     "data": {
      "text/plain": [
       "array([1.61299291e+01, 3.64376701e+00, 6.01373526e-05])"
      ]
     },
     "execution_count": 21,
     "metadata": {},
     "output_type": "execute_result"
    }
   ],
   "source": [
    "jres.max_eig_stat"
   ]
  },
  {
   "cell_type": "code",
   "execution_count": 22,
   "id": "886c9a81-2fdf-488b-9169-680c5d8c9dde",
   "metadata": {},
   "outputs": [
    {
     "data": {
      "text/plain": [
       "array([[18.8928, 21.1314, 25.865 ],\n",
       "       [12.2971, 14.2639, 18.52  ],\n",
       "       [ 2.7055,  3.8415,  6.6349]])"
      ]
     },
     "execution_count": 22,
     "metadata": {},
     "output_type": "execute_result"
    }
   ],
   "source": [
    "jres.max_eig_stat_crit_vals"
   ]
  },
  {
   "cell_type": "code",
   "execution_count": 23,
   "id": "1cb4cd64-b5bf-450f-ba29-d44088564e37",
   "metadata": {},
   "outputs": [
    {
     "data": {
      "text/plain": [
       "array([[ 64.01999664, 239.58000183, 125.06999969],\n",
       "       [ 64.66000366, 229.1000061 , 126.36000061],\n",
       "       [ 62.33000183, 222.30999756, 125.01999664],\n",
       "       [ 63.95999908, 224.92999268, 129.61999512],\n",
       "       [ 67.23999786, 227.11999512, 130.1499939 ],\n",
       "       [ 68.05000305, 228.8500061 , 130.72999573],\n",
       "       [ 69.05999756, 235.77000427, 133.49000549],\n",
       "       [ 70.80000305, 238.50999451, 133.41000366],\n",
       "       [ 71.        , 239.22999573, 134.75999451],\n",
       "       [ 71.58999634, 240.3500061 , 135.94000244],\n",
       "       [ 70.52999878, 235.80999756, 135.21000671],\n",
       "       [ 67.70999908, 231.92999268, 135.27000427],\n",
       "       [ 70.06999969, 240.22000122, 137.86999512],\n",
       "       [ 76.52999878, 242.58000183, 141.11000061],\n",
       "       [ 74.69999695, 242.03999329, 142.52999878],\n",
       "       [ 74.91000366, 240.61000061, 141.86000061],\n",
       "       [ 75.16000366, 248.        , 143.96000671],\n",
       "       [ 75.40000153, 248.16000366, 145.92999268],\n",
       "       [ 72.44999695, 242.71000671, 143.        ],\n",
       "       [ 75.15000153, 247.80999756, 144.28999329],\n",
       "       [ 84.63999939, 252.75      , 145.42999268],\n",
       "       [ 88.30999756, 264.6000061 , 150.82000732],\n",
       "       [ 86.08999634, 258.3500061 , 154.5       ],\n",
       "       [ 83.68000031, 256.76998901, 151.72999573],\n",
       "       [ 85.91000366, 267.55999756, 154.6499939 ],\n",
       "       [ 84.69000244, 266.73001099, 151.91999817],\n",
       "       [ 83.20999908, 263.61999512, 150.86999512],\n",
       "       [ 81.48000336, 263.1000061 , 151.00999451],\n",
       "       [ 83.12999725, 271.32000732, 153.8500061 ],\n",
       "       [ 85.94999695, 272.17001343, 153.19999695],\n",
       "       [ 85.18000031, 269.32000732, 155.33000183],\n",
       "       [ 80.08000183, 262.1499939 , 153.71000671],\n",
       "       [ 78.5       , 258.05999756, 152.55000305],\n",
       "       [ 76.76999664, 252.66999817, 148.47999573],\n",
       "       [ 76.61000061, 251.50999451, 148.91000366],\n",
       "       [ 79.75      , 254.77000427, 149.3999939 ],\n",
       "       [ 78.08999634, 249.22000122, 146.71000671],\n",
       "       [ 78.76999664, 250.16000366, 147.91999817],\n",
       "       [ 78.58000183, 249.41999817, 147.41000366],\n",
       "       [ 78.29000092, 246.27000427, 145.30999756],\n",
       "       [ 80.44000244, 251.11000061, 145.91000366],\n",
       "       [ 81.51999664, 255.28999329, 151.02999878],\n",
       "       [ 81.16000366, 256.86999512, 153.83000183],\n",
       "       [ 82.11000061, 254.1499939 , 151.6000061 ],\n",
       "       [ 85.37000275, 253.69999695, 152.86999512],\n",
       "       [ 84.02999878, 252.32000732, 150.58999634],\n",
       "       [ 82.66999817, 248.58999634, 148.5       ],\n",
       "       [ 82.01000214, 253.91999817, 150.47000122],\n",
       "       [ 87.44999695, 260.79000854, 152.58999634],\n",
       "       [ 89.68000031, 265.44000244, 152.99000549],\n",
       "       [ 96.59999847, 276.20001221, 155.8500061 ],\n",
       "       [ 97.83999634, 279.42999268, 155.        ],\n",
       "       [ 96.80999756, 272.23001099, 157.3999939 ],\n",
       "       [ 95.93000031, 273.77999878, 159.27999878],\n",
       "       [ 97.58000183, 272.29000854, 157.83000183],\n",
       "       [100.27999878, 277.66000366, 158.92999268],\n",
       "       [ 97.94999695, 280.57000732, 160.25      ],\n",
       "       [ 96.61000061, 276.38000488, 158.27999878],\n",
       "       [ 94.55999756, 275.23001099, 157.6499939 ],\n",
       "       [ 96.08999634, 280.51000977, 160.77000427],\n",
       "       [ 97.87999725, 284.04998779, 162.36000061],\n",
       "       [ 98.01000214, 288.29998779, 164.8999939 ],\n",
       "       [ 96.55999756, 287.23001099, 166.16999817],\n",
       "       [ 95.87000275, 287.17999268, 165.63000488],\n",
       "       [ 92.55999756, 284.33999634, 163.75999451],\n",
       "       [ 92.47000122, 291.6000061 , 164.66000366],\n",
       "       [ 95.48000336, 289.39001465, 162.02999878],\n",
       "       [ 94.02999878, 282.82998657, 160.80000305],\n",
       "       [ 92.33000183, 283.48999023, 160.1000061 ],\n",
       "       [ 92.08999634, 289.83999634, 165.55999756],\n",
       "       [ 91.75      , 286.14001465, 165.21000671],\n",
       "       [ 89.87000275, 288.79998779, 165.22999573],\n",
       "       [ 89.77999878, 288.36999512, 166.47000122],\n",
       "       [ 89.94000244, 288.45001221, 167.63000488],\n",
       "       [ 90.11000061, 286.10998535, 166.6499939 ],\n",
       "       [ 88.43000031, 285.76000977, 165.02000427],\n",
       "       [ 87.56999969, 281.76998901, 165.33000183],\n",
       "       [ 83.80000305, 275.42001343, 163.77000427],\n",
       "       [ 85.94000244, 295.36999512, 163.75999451],\n",
       "       [ 87.44000244, 304.82998657, 168.41000366],\n",
       "       [ 89.37000275, 307.26000977, 169.67999268],\n",
       "       [ 89.69000244, 305.55999756, 169.58999634],\n",
       "       [ 89.91000366, 305.41000366, 168.53999329],\n",
       "       [ 81.62000275, 304.3999939 , 167.44999695],\n",
       "       [ 86.61000061, 305.41000366, 165.78999329],\n",
       "       [ 89.83999634, 310.6499939 , 173.57000732],\n",
       "       [ 95.04000092, 308.6499939 , 173.5       ],\n",
       "       [ 95.05999756, 307.        , 171.77000427],\n",
       "       [ 97.01999664, 312.30999756, 173.55999756],\n",
       "       [ 97.09999847, 310.10998535, 173.75      ],\n",
       "       [ 95.26000214, 308.97000122, 172.57000732],\n",
       "       [ 97.40000153, 309.45999146, 172.07000732],\n",
       "       [101.48000336, 311.73999023, 172.07000732],\n",
       "       [103.75      , 314.        , 172.69000244],\n",
       "       [107.93000031, 318.51998901, 175.05000305],\n",
       "       [105.81999969, 318.33999634, 175.16000366],\n",
       "       [108.        , 321.17999268, 174.19999695],\n",
       "       [108.12000275, 315.26000977, 171.55999756],\n",
       "       [108.26999664, 313.8500061 , 171.83999634],\n",
       "       [120.34999847, 325.92001343, 172.99000549],\n",
       "       [127.02999878, 332.89001465, 175.42999268]])"
      ]
     },
     "execution_count": 23,
     "metadata": {},
     "output_type": "execute_result"
    }
   ],
   "source": [
    "X = df2.to_numpy()\n",
    "X"
   ]
  },
  {
   "cell_type": "code",
   "execution_count": 28,
   "id": "dcdf53fc-0b5e-4e28-bfa8-6cc37a44a415",
   "metadata": {},
   "outputs": [],
   "source": [
    "y = np.matmul(X, np.array(jres.evec[1]))"
   ]
  },
  {
   "cell_type": "code",
   "execution_count": 29,
   "id": "061b794d-198a-4361-b4a4-6745b65ea820",
   "metadata": {},
   "outputs": [
    {
     "data": {
      "text/plain": [
       "[<matplotlib.lines.Line2D at 0x177523490>]"
      ]
     },
     "execution_count": 29,
     "metadata": {},
     "output_type": "execute_result"
    },
    {
     "data": {
      "image/png": "[encoded data removed]",
      "text/plain": [
       "<Figure size 640x480 with 1 Axes>"
      ]
     },
     "metadata": {},
     "output_type": "display_data"
    }
   ],
   "source": [
    "plt.plot(y)"
   ]
  },
  {
   "cell_type": "code",
   "execution_count": 31,
   "id": "08f692be-86c5-4b1b-9fe5-93444579da43",
   "metadata": {},
   "outputs": [
    {
     "data": {
      "text/plain": [
       "(-1.8081168299420207,\n",
       " 0.37643942414835524,\n",
       " 0,\n",
       " 100,\n",
       " {'1%': -3.497501033, '5%': -2.89090644, '10%': -2.5824349},\n",
       " 71.27930495073284)"
      ]
     },
     "execution_count": 31,
     "metadata": {},
     "output_type": "execute_result"
    }
   ],
   "source": [
    "adfuller(y)"
   ]
  },
  {
   "cell_type": "code",
   "execution_count": null,
   "id": "03dae98b-842c-4e18-9ca8-57f78a7705dc",
   "metadata": {},
   "outputs": [],
   "source": []
  }
 ],
 "metadata": {
  "kernelspec": {
   "display_name": "Python 3 (ipykernel)",
   "language": "python",
   "name": "python3"
  },
  "language_info": {
   "codemirror_mode": {
    "name": "ipython",
    "version": 3
   },
   "file_extension": ".py",
   "mimetype": "text/x-python",
   "name": "python",
   "nbconvert_exporter": "python",
   "pygments_lexer": "ipython3",
   "version": "3.11.3"
  }
 },
 "nbformat": 4,
 "nbformat_minor": 5
}
